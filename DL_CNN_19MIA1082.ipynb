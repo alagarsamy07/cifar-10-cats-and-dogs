{
  "nbformat": 4,
  "nbformat_minor": 0,
  "metadata": {
    "colab": {
      "name": "DL_CNN_19MIA1082",
      "provenance": []
    },
    "kernelspec": {
      "name": "python3",
      "display_name": "Python 3"
    },
    "language_info": {
      "name": "python"
    }
  },
  "cells": [
    {
      "cell_type": "code",
      "execution_count": 5,
      "metadata": {
        "id": "7r1ijfoGaBIY"
      },
      "outputs": [],
      "source": [
        "from keras.datasets import cifar10\n",
        "from keras.utils import np_utils\n",
        "from keras.models import Sequential\n",
        "from keras.layers.core import Dense, Dropout, Activation, Flatten\n",
        "from keras.layers.convolutional import Conv2D, MaxPooling2D\n",
        "from tensorflow.keras.optimizers import SGD, Adam, RMSprop"
      ]
    },
    {
      "cell_type": "code",
      "source": [
        "import matplotlib.pyplot as plt"
      ],
      "metadata": {
        "id": "zaJKHmpoaOrF"
      },
      "execution_count": 6,
      "outputs": []
    },
    {
      "cell_type": "code",
      "source": [
        "!wget --no-check-certificate \\\n",
        "   https://storage.googleapis.com/mledu-datasets/cats_and_dogs_filtered.zip -O \\\n",
        "   /tmp/cats_and_dogs_filtered.zip"
      ],
      "metadata": {
        "colab": {
          "base_uri": "https://localhost:8080/"
        },
        "id": "rQtMPsjvaPxK",
        "outputId": "41a8ff1d-3c95-430d-b7a9-e937676edeb4"
      },
      "execution_count": 7,
      "outputs": [
        {
          "output_type": "stream",
          "name": "stdout",
          "text": [
            "--2022-02-21 13:14:05--  https://storage.googleapis.com/mledu-datasets/cats_and_dogs_filtered.zip\n",
            "Resolving storage.googleapis.com (storage.googleapis.com)... 142.251.107.128, 173.194.216.128, 173.194.217.128, ...\n",
            "Connecting to storage.googleapis.com (storage.googleapis.com)|142.251.107.128|:443... connected.\n",
            "HTTP request sent, awaiting response... 200 OK\n",
            "Length: 68606236 (65M) [application/zip]\n",
            "Saving to: ‘/tmp/cats_and_dogs_filtered.zip’\n",
            "\n",
            "/tmp/cats_and_dogs_ 100%[===================>]  65.43M   173MB/s    in 0.4s    \n",
            "\n",
            "2022-02-21 13:14:06 (173 MB/s) - ‘/tmp/cats_and_dogs_filtered.zip’ saved [68606236/68606236]\n",
            "\n"
          ]
        }
      ]
    },
    {
      "cell_type": "code",
      "source": [
        "import os\n",
        "import zipfile\n",
        "\n",
        "local_zip = '/tmp/cats_and_dogs_filtered.zip'\n",
        "zip_ref = zipfile.ZipFile(local_zip, 'r')\n",
        "zip_ref.extractall('/tmp')\n",
        "zip_ref.close()\n",
        "  \n",
        "base_dir = '/tmp/cats_and_dogs_filtered'\n",
        "train_dir = os.path.join(base_dir, 'train')\n",
        "validation_dir = os.path.join(base_dir, 'validation')\n",
        "\n",
        "# Directory with our training cat pictures\n",
        "train_cats_dir = os.path.join(train_dir, 'cats')\n",
        "\n",
        "# Directory with our training dog pictures\n",
        "train_dogs_dir = os.path.join(train_dir, 'dogs')\n",
        "\n",
        "# Directory with our validation cat pictures\n",
        "validation_cats_dir = os.path.join(validation_dir, 'cats')\n",
        "\n",
        "# Directory with our validation dog pictures\n",
        "validation_dogs_dir = os.path.join(validation_dir, 'dogs')\n",
        "\n",
        "train_cat_fnames = os.listdir(train_cats_dir)\n",
        "train_dog_fnames = os.listdir(train_dogs_dir)"
      ],
      "metadata": {
        "id": "TN_6ZFedbKCO"
      },
      "execution_count": 9,
      "outputs": []
    },
    {
      "cell_type": "code",
      "source": [
        "from tensorflow.keras.preprocessing.image import array_to_img, img_to_array, load_img"
      ],
      "metadata": {
        "id": "TvFxvFjEbK-n"
      },
      "execution_count": 11,
      "outputs": []
    },
    {
      "cell_type": "code",
      "source": [
        "img_path = os.path.join(train_cats_dir, train_cat_fnames[2])\n",
        "img = load_img(img_path, target_size=(150, 150))  # this is a PIL image\n",
        "x = img_to_array(img)  # Numpy array with shape (150, 150, 3)\n",
        "x = x.reshape((1,) + x.shape)  # Numpy array with shape (1, 150, 150, 3)"
      ],
      "metadata": {
        "id": "zNZA5qmHbKrs"
      },
      "execution_count": 12,
      "outputs": []
    },
    {
      "cell_type": "code",
      "source": [
        "from tensorflow.keras.preprocessing.image import ImageDataGenerator\n",
        "train_datagen = ImageDataGenerator(\n",
        "    rescale=1./255,\n",
        "    rotation_range=40,\n",
        "    width_shift_range=0.2,\n",
        "    height_shift_range=0.2,\n",
        "    shear_range=0.2,\n",
        "    zoom_range=0.2,\n",
        "    horizontal_flip=True,)"
      ],
      "metadata": {
        "id": "0AGI1rsacvWz"
      },
      "execution_count": 16,
      "outputs": []
    },
    {
      "cell_type": "code",
      "source": [
        "val_datagen = ImageDataGenerator(rescale=1./255)"
      ],
      "metadata": {
        "id": "JpCXxcwTcvRm"
      },
      "execution_count": 17,
      "outputs": []
    },
    {
      "cell_type": "code",
      "source": [
        "train_generator = train_datagen.flow_from_directory(\n",
        "        train_dir,  # This is the source directory for training images\n",
        "        target_size=(150, 150),  # All images will be resized to 150x150\n",
        "        batch_size=20,\n",
        "        # Since we use binary_crossentropy loss, we need binary labels\n",
        "        class_mode='binary')"
      ],
      "metadata": {
        "colab": {
          "base_uri": "https://localhost:8080/"
        },
        "id": "fBlQzvdFcvIQ",
        "outputId": "25c22b6a-edce-4b1d-de3c-16177266c5b3"
      },
      "execution_count": 18,
      "outputs": [
        {
          "output_type": "stream",
          "name": "stdout",
          "text": [
            "Found 2000 images belonging to 2 classes.\n"
          ]
        }
      ]
    },
    {
      "cell_type": "code",
      "source": [
        "validation_generator = val_datagen.flow_from_directory(\n",
        "        validation_dir,\n",
        "        target_size=(150, 150),\n",
        "        batch_size=20,\n",
        "        class_mode='binary')"
      ],
      "metadata": {
        "colab": {
          "base_uri": "https://localhost:8080/"
        },
        "id": "oZmorb71c4tX",
        "outputId": "c7f308c1-38f3-4009-e8b2-ed47141bb3f4"
      },
      "execution_count": 19,
      "outputs": [
        {
          "output_type": "stream",
          "name": "stdout",
          "text": [
            "Found 1000 images belonging to 2 classes.\n"
          ]
        }
      ]
    },
    {
      "cell_type": "code",
      "source": [
        "model = Sequential()\n",
        "model.add(Conv2D(16, (3, 3), padding='same', input_shape=(150, 150, 3)))\n",
        "model.add(Activation('relu'))\n",
        "model.add(MaxPooling2D(pool_size=(2, 2)))\n",
        "model.add(Dropout(0.25))\n",
        "model.add(Flatten())\n",
        "model.add(Dense(512))\n",
        "model.add(Activation('relu'))\n",
        "model.add(Dropout(0.5))\n",
        "model.add(Dense(1))\n",
        "model.add(Activation('softmax'))"
      ],
      "metadata": {
        "id": "wODfVyYHdZn5"
      },
      "execution_count": 37,
      "outputs": []
    },
    {
      "cell_type": "code",
      "source": [
        "model.summary()"
      ],
      "metadata": {
        "colab": {
          "base_uri": "https://localhost:8080/"
        },
        "id": "btMQr22LeYxV",
        "outputId": "dc79f65c-4783-48e6-f63f-a609c3901d26"
      },
      "execution_count": 38,
      "outputs": [
        {
          "output_type": "stream",
          "name": "stdout",
          "text": [
            "Model: \"sequential_3\"\n",
            "_________________________________________________________________\n",
            " Layer (type)                Output Shape              Param #   \n",
            "=================================================================\n",
            " conv2d_3 (Conv2D)           (None, 150, 150, 16)      448       \n",
            "                                                                 \n",
            " activation_9 (Activation)   (None, 150, 150, 16)      0         \n",
            "                                                                 \n",
            " max_pooling2d_3 (MaxPooling  (None, 75, 75, 16)       0         \n",
            " 2D)                                                             \n",
            "                                                                 \n",
            " dropout_6 (Dropout)         (None, 75, 75, 16)        0         \n",
            "                                                                 \n",
            " flatten_3 (Flatten)         (None, 90000)             0         \n",
            "                                                                 \n",
            " dense_6 (Dense)             (None, 512)               46080512  \n",
            "                                                                 \n",
            " activation_10 (Activation)  (None, 512)               0         \n",
            "                                                                 \n",
            " dropout_7 (Dropout)         (None, 512)               0         \n",
            "                                                                 \n",
            " dense_7 (Dense)             (None, 1)                 513       \n",
            "                                                                 \n",
            " activation_11 (Activation)  (None, 1)                 0         \n",
            "                                                                 \n",
            "=================================================================\n",
            "Total params: 46,081,473\n",
            "Trainable params: 46,081,473\n",
            "Non-trainable params: 0\n",
            "_________________________________________________________________\n"
          ]
        }
      ]
    },
    {
      "cell_type": "code",
      "source": [
        "model.compile(loss='binary_crossentropy', optimizer=RMSprop(), metrics=['accuracy'])"
      ],
      "metadata": {
        "id": "jWtS97UXeiVN"
      },
      "execution_count": 39,
      "outputs": []
    },
    {
      "cell_type": "code",
      "source": [
        "history = model.fit(\n",
        "      train_generator,\n",
        "      steps_per_epoch=50,\n",
        "      epochs=15,\n",
        "      validation_data=validation_generator,\n",
        "      validation_steps=50,\n",
        "      verbose=1)"
      ],
      "metadata": {
        "colab": {
          "base_uri": "https://localhost:8080/"
        },
        "id": "VZK-pF9AhSwh",
        "outputId": "e2e11490-dc68-4562-c7cf-75db3d41be00"
      },
      "execution_count": 40,
      "outputs": [
        {
          "output_type": "stream",
          "name": "stdout",
          "text": [
            "Epoch 1/15\n",
            "50/50 [==============================] - 60s 1s/step - loss: 4.5307 - accuracy: 0.5050 - val_loss: 0.7342 - val_accuracy: 0.5000\n",
            "Epoch 2/15\n",
            "50/50 [==============================] - 53s 1s/step - loss: 0.7109 - accuracy: 0.4980 - val_loss: 0.6558 - val_accuracy: 0.5000\n",
            "Epoch 3/15\n",
            "50/50 [==============================] - 51s 1s/step - loss: 0.6854 - accuracy: 0.5140 - val_loss: 0.6458 - val_accuracy: 0.5000\n",
            "Epoch 4/15\n",
            "50/50 [==============================] - 52s 1s/step - loss: 0.6740 - accuracy: 0.4950 - val_loss: 0.6452 - val_accuracy: 0.5000\n",
            "Epoch 5/15\n",
            "50/50 [==============================] - 50s 1s/step - loss: 0.6774 - accuracy: 0.5040 - val_loss: 0.6315 - val_accuracy: 0.5000\n",
            "Epoch 6/15\n",
            "50/50 [==============================] - 52s 1s/step - loss: 0.6803 - accuracy: 0.5020 - val_loss: 0.6364 - val_accuracy: 0.5000\n",
            "Epoch 7/15\n",
            "50/50 [==============================] - 51s 1s/step - loss: 0.6584 - accuracy: 0.5010 - val_loss: 0.6631 - val_accuracy: 0.5000\n",
            "Epoch 8/15\n",
            "50/50 [==============================] - 50s 1s/step - loss: 0.7149 - accuracy: 0.5290 - val_loss: 0.6637 - val_accuracy: 0.5000\n",
            "Epoch 9/15\n",
            "50/50 [==============================] - 54s 1s/step - loss: 0.6664 - accuracy: 0.5050 - val_loss: 0.6766 - val_accuracy: 0.5000\n",
            "Epoch 10/15\n",
            "50/50 [==============================] - 51s 1s/step - loss: 0.6680 - accuracy: 0.5080 - val_loss: 0.6868 - val_accuracy: 0.5000\n",
            "Epoch 11/15\n",
            "50/50 [==============================] - 52s 1s/step - loss: 0.6533 - accuracy: 0.5160 - val_loss: 0.7416 - val_accuracy: 0.5000\n",
            "Epoch 12/15\n",
            "50/50 [==============================] - 51s 1s/step - loss: 0.6706 - accuracy: 0.4880 - val_loss: 0.6380 - val_accuracy: 0.5000\n",
            "Epoch 13/15\n",
            "50/50 [==============================] - 53s 1s/step - loss: 0.6442 - accuracy: 0.5020 - val_loss: 0.6742 - val_accuracy: 0.5000\n",
            "Epoch 14/15\n",
            "50/50 [==============================] - 53s 1s/step - loss: 0.6630 - accuracy: 0.4880 - val_loss: 0.6394 - val_accuracy: 0.5000\n",
            "Epoch 15/15\n",
            "50/50 [==============================] - 52s 1s/step - loss: 0.6643 - accuracy: 0.4960 - val_loss: 0.6195 - val_accuracy: 0.5000\n"
          ]
        }
      ]
    },
    {
      "cell_type": "code",
      "source": [
        "accuracy = history.history['accuracy']\n",
        "val_accuracy = history.history['val_accuracy']\n",
        "\n",
        "\n",
        "loss = history.history['loss']\n",
        "val_loss = history.history['val_loss']\n",
        "\n",
        "epochs = range(len(accuracy))\n",
        "\n",
        "plt.plot(epochs, accuracy)\n",
        "plt.plot(epochs, val_accuracy)\n",
        "plt.title('Training and validation accuracy')\n",
        "\n",
        "plt.figure()\n",
        "\n",
        "plt.plot(epochs, loss)\n",
        "plt.plot(epochs, val_loss)\n",
        "plt.title('Training and validation loss')"
      ],
      "metadata": {
        "colab": {
          "base_uri": "https://localhost:8080/",
          "height": 562
        },
        "id": "DQKhm4YzhTpn",
        "outputId": "ccae4337-3c9d-411c-8177-b9cbebb3a293"
      },
      "execution_count": 41,
      "outputs": [
        {
          "output_type": "execute_result",
          "data": {
            "text/plain": [
              "Text(0.5, 1.0, 'Training and validation loss')"
            ]
          },
          "metadata": {},
          "execution_count": 41
        },
        {
          "output_type": "display_data",
          "data": {
            "image/png": "[encoded data removed]",
            "text/plain": [
              "<Figure size 432x288 with 1 Axes>"
            ]
          },
          "metadata": {
            "needs_background": "light"
          }
        },
        {
          "output_type": "display_data",
          "data": {
            "image/png": "[encoded data removed]",
            "text/plain": [
              "<Figure size 432x288 with 1 Axes>"
            ]
          },
          "metadata": {
            "needs_background": "light"
          }
        }
      ]
    }
  ]
}